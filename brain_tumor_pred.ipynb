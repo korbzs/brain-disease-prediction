{
 "cells": [
  {
   "cell_type": "code",
   "execution_count": 1,
   "metadata": {},
   "outputs": [],
   "source": [
    "import os\n",
    "\n",
    "import numpy as np\n",
    "import pandas as pd\n",
    "\n",
    "import cv2\n",
    "import matplotlib"
   ]
  },
  {
   "cell_type": "code",
   "execution_count": 2,
   "metadata": {},
   "outputs": [],
   "source": [
    "path_train_glioma = os.path.join(\"agyikepek_4_osztaly\", \"Training\", \"glioma\")\n",
    "path_train_meningioma = os.path.join(\"agyikepek_4_osztaly\", \"Training\", \"meningioma\")\n",
    "path_train_notumor = os.path.join(\"agyikepek_4_osztaly\", \"Training\", \"notumor\")\n",
    "path_train_pituitary = os.path.join(\"agyikepek_4_osztaly\", \"Training\", \"pituitary\")\n",
    "\n",
    "path_test_glioma = os.path.join(\"agyikepek_4_osztaly\", \"Testing\", \"glioma\")\n",
    "path_test_meningioma = os.path.join(\"agyikepek_4_osztaly\", \"Testing\", \"meningioma\")\n",
    "path_test_notumor = os.path.join(\"agyikepek_4_osztaly\", \"Testing\", \"notumor\")\n",
    "path_test_pituitary = os.path.join(\"agyikepek_4_osztaly\", \"Testing\", \"pituitary\")"
   ]
  },
  {
   "cell_type": "code",
   "execution_count": 6,
   "metadata": {},
   "outputs": [],
   "source": [
    "def save_images(PATH, type) -> pd.DataFrame:\n",
    "\n",
    "    df = pd.DataFrame(columns=[\"img\", \"type\"])\n",
    "\n",
    "    for file in os.listdir(PATH):\n",
    "        img = cv2.imread(os.path.join(PATH, file))      \n",
    "\n",
    "        temp_df = pd.DataFrame({\"img\": [img], \"type\": [type]})\n",
    "        \n",
    "        df = pd.concat([df, temp_df], ignore_index=True)\n",
    "\n",
    "    return df"
   ]
  },
  {
   "cell_type": "code",
   "execution_count": 7,
   "metadata": {},
   "outputs": [],
   "source": [
    "train_glioma_df = save_images(path_train_glioma, \"glioma\")\n",
    "train_meningioma_df = save_images(path_train_meningioma, \"meningioma\")\n",
    "train_notumor_df = save_images(path_train_notumor, \"notumor\")\n",
    "train_pituitary_df = save_images(path_train_pituitary, \"pituitary\")\n",
    "\n",
    "test_glioma_df = save_images(path_test_glioma, \"glioma\")\n",
    "test_meningioma_df = save_images(path_test_meningioma, \"meningioma\")\n",
    "test_notumor_df = save_images(path_test_notumor, \"notumor\")\n",
    "test_pituitary_df = save_images(path_test_pituitary, \"pituitary\")"
   ]
  },
  {
   "cell_type": "code",
   "execution_count": 5,
   "metadata": {},
   "outputs": [],
   "source": [
    "train_df = pd.concat([train_glioma_df, train_meningioma_df, train_notumor_df, train_pituitary_df], axis=0)"
   ]
  },
  {
   "cell_type": "code",
   "execution_count": 16,
   "metadata": {},
   "outputs": [
    {
     "name": "stdout",
     "output_type": "stream",
     "text": [
      "Train categories and counts: \n"
     ]
    },
    {
     "data": {
      "text/plain": [
       "type\n",
       "notumor       1595\n",
       "pituitary     1344\n",
       "meningioma    1339\n",
       "glioma        1321\n",
       "Name: count, dtype: int64"
      ]
     },
     "execution_count": 16,
     "metadata": {},
     "output_type": "execute_result"
    }
   ],
   "source": [
    "print(\"Train categories and counts: \")\n",
    "train_df[\"type\"].value_counts()"
   ]
  },
  {
   "cell_type": "code",
   "execution_count": 12,
   "metadata": {},
   "outputs": [],
   "source": [
    "test_df = pd.concat([test_glioma_df, test_meningioma_df, test_notumor_df, test_pituitary_df], axis=0)"
   ]
  },
  {
   "cell_type": "code",
   "execution_count": 17,
   "metadata": {},
   "outputs": [
    {
     "name": "stdout",
     "output_type": "stream",
     "text": [
      "Test categories and counts: \n"
     ]
    },
    {
     "data": {
      "text/plain": [
       "type\n",
       "notumor       405\n",
       "meningioma    306\n",
       "glioma        300\n",
       "pituitary     300\n",
       "Name: count, dtype: int64"
      ]
     },
     "execution_count": 17,
     "metadata": {},
     "output_type": "execute_result"
    }
   ],
   "source": [
    "print(\"Test categories and counts: \")\n",
    "test_df[\"type\"].value_counts()"
   ]
  },
  {
   "cell_type": "code",
   "execution_count": null,
   "metadata": {},
   "outputs": [],
   "source": []
  }
 ],
 "metadata": {
  "kernelspec": {
   "display_name": "Python 3",
   "language": "python",
   "name": "python3"
  },
  "language_info": {
   "codemirror_mode": {
    "name": "ipython",
    "version": 3
   },
   "file_extension": ".py",
   "mimetype": "text/x-python",
   "name": "python",
   "nbconvert_exporter": "python",
   "pygments_lexer": "ipython3",
   "version": "3.10.11"
  }
 },
 "nbformat": 4,
 "nbformat_minor": 2
}
